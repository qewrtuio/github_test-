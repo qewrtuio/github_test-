{
 "cells": [
  {
   "cell_type": "code",
   "execution_count": 1,
   "metadata": {},
   "outputs": [
    {
     "name": "stdout",
     "output_type": "stream",
     "text": [
      "Hello Python!\n"
     ]
    }
   ],
   "source": [
    "print(\"Hello Python!\")"
   ]
  },
  {
   "cell_type": "code",
   "execution_count": 2,
   "metadata": {},
   "outputs": [
    {
     "name": "stdout",
     "output_type": "stream",
     "text": [
      "깃허브 어렵다\n"
     ]
    }
   ],
   "source": [
    "print(\"깃허브 어렵다\")"
   ]
  },
  {
   "cell_type": "code",
   "execution_count": 3,
   "metadata": {},
   "outputs": [
    {
     "name": "stdout",
     "output_type": "stream",
     "text": [
      "3\n",
      "3\n"
     ]
    }
   ],
   "source": [
    "n = int(input())\n",
    "\n",
    "cnt = 0 \n",
    "if n <= 99:\n",
    "    print(n)\n",
    "elif n>=100:   \n",
    "    for i in range(100,n+1,1):\n",
    "        n_100 = str(i)[0]\n",
    "        n_10 = str(i)[1]\n",
    "        n_1 = str(i)[2]\n",
    "        a = int(n_100)- int(n_10)\n",
    "        b = int(n_10) - int(n_1)\n",
    "        if a==b:\n",
    "            cnt+=1\n",
    "\n",
    "    print(99+cnt)"
   ]
  },
  {
   "cell_type": "code",
   "execution_count": 4,
   "metadata": {},
   "outputs": [
    {
     "name": "stdout",
     "output_type": "stream",
     "text": [
      "commit 추가가 또 뜰 것\n"
     ]
    }
   ],
   "source": [
    "print(\"commit 추가가 또 뜰 것\")"
   ]
  },
  {
   "cell_type": "code",
   "execution_count": null,
   "metadata": {},
   "outputs": [],
   "source": []
  }
 ],
 "metadata": {
  "kernelspec": {
   "display_name": "Python 3",
   "language": "python",
   "name": "python3"
  },
  "language_info": {
   "codemirror_mode": {
    "name": "ipython",
    "version": 3
   },
   "file_extension": ".py",
   "mimetype": "text/x-python",
   "name": "python",
   "nbconvert_exporter": "python",
   "pygments_lexer": "ipython3",
   "version": "3.8.5"
  }
 },
 "nbformat": 4,
 "nbformat_minor": 4
}
